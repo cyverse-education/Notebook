{
 "cells": [
  {
   "cell_type": "markdown",
   "metadata": {},
   "source": [
    "Install packages "
   ]
  },
  {
   "cell_type": "code",
   "execution_count": null,
   "metadata": {
    "vscode": {
     "languageId": "r"
    }
   },
   "outputs": [],
   "source": [
    "install.packages(\"psych\")\n",
    "library(psych)\n",
    "install.packages(\"lavaan\")\n",
    "library(lavaan)"
   ]
  },
  {
   "cell_type": "markdown",
   "metadata": {},
   "source": [
    "This is example code for DSF Maternal Adversity Project"
   ]
  },
  {
   "cell_type": "code",
   "execution_count": null,
   "metadata": {
    "vscode": {
     "languageId": "r"
    }
   },
   "outputs": [],
   "source": [
    "\n",
    "\"ICBehavior ~ a*Adversity + covariates\n",
    "Bonding ~ b*ICBehavior + c*Adversity + covariates\n",
    "\n",
    "IndirectEffect := a*b\n",
    "DirectEffect := c\n",
    "TotalEffect := (a*b) = c\n",
    "\"\n",
    "\n",
    "MAmodel<- sem(model1, data = MAdata, estimator = 'ML', missing = 'fiml')\n",
    "summary(model1, fit.measures = T, standardized = T, rsq = T, ci = TRUE)\n",
    "bootstrapLavaan(MAmodel)"
   ]
  }
 ],
 "metadata": {
  "language_info": {
   "name": "python"
  },
  "orig_nbformat": 4
 },
 "nbformat": 4,
 "nbformat_minor": 2
}
