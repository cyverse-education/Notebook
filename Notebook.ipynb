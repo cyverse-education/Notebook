{
 "cells": [
  {
   "cell_type": "markdown",
   "metadata": {},
   "source": [
    "This notebook contains example code for DSF Maternal Adversity Project\n",
    "\n",
    "Project details and description can be found at [DSF-MaternalAdveristy](https://github.com/llkrieger/DSF-MaternalAdversity-)\n",
    "\n"
   ]
  },
  {
   "cell_type": "markdown",
   "metadata": {},
   "source": [
    "Install packages "
   ]
  },
  {
   "cell_type": "code",
   "execution_count": null,
   "metadata": {},
   "outputs": [],
   "source": [
    "install.packages(\"psych\")\n",
    "library(psych)\n",
    "install.packages(\"lavaan\")\n",
    "library(lavaan)"
   ]
  },
  {
   "cell_type": "markdown",
   "metadata": {},
   "source": [
    "Simple mediation code"
   ]
  },
  {
   "cell_type": "code",
   "execution_count": null,
   "metadata": {},
   "outputs": [],
   "source": [
    "\n",
    "\"ICBehavior ~ a*Adversity + covariates\n",
    "Bonding ~ b*ICBehavior + c*Adversity + covariates\n",
    "\n",
    "IndirectEffect := a*b\n",
    "DirectEffect := c\n",
    "TotalEffect := (a*b) + c\n",
    "\"\n",
    "\n",
    "MAmodel<- sem(model1, data = MAdata, estimator = 'ML', missing = 'fiml')\n",
    "summary(model1, fit.measures = T, standardized = T, rsq = T, ci = TRUE)\n",
    "bootstrapLavaan(MAmodel)"
   ]
  },
  {
   "cell_type": "markdown",
   "metadata": {},
   "source": [
    "![ConceptualModel](https://github.com/llkrieger/Images-/blob/main/SRCD%202023%20Figure%201.png?raw=true)\n"
   ]
  }
 ],
 "metadata": {
  "kernelspec": {
   "display_name": "Python 3.10.1 64-bit",
   "language": "python",
   "name": "python3"
  },
  "language_info": {
   "name": "python",
   "version": "3.10.1"
  },
  "orig_nbformat": 4,
  "vscode": {
   "interpreter": {
    "hash": "009c93aa157c1422160898f04d5a57ba053cfec0bd9dd98058a46b821ea0e7ca"
   }
  }
 },
 "nbformat": 4,
 "nbformat_minor": 2
}
